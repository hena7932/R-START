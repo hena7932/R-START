{
  "nbformat": 4,
  "nbformat_minor": 0,
  "metadata": {
    "kernelspec": {
      "display_name": "Python 3",
      "language": "python",
      "name": "python3"
    },
    "language_info": {
      "codemirror_mode": {
        "name": "ipython",
        "version": 3
      },
      "file_extension": ".py",
      "mimetype": "text/x-python",
      "name": "python",
      "nbconvert_exporter": "python",
      "pygments_lexer": "ipython3",
      "version": "3.6.5"
    },
    "colab": {
      "name": "16~18.조건문과 반복문 - 05~07.반복문의 이해(for)_Before.ipynb",
      "provenance": [],
      "include_colab_link": true
    }
  },
  "cells": [
    {
      "cell_type": "markdown",
      "metadata": {
        "id": "view-in-github",
        "colab_type": "text"
      },
      "source": [
        "<a href=\"https://colab.research.google.com/github/hena7932/R-START/blob/main/16~18_%EC%A1%B0%EA%B1%B4%EB%AC%B8%EA%B3%BC_%EB%B0%98%EB%B3%B5%EB%AC%B8_05~07_%EB%B0%98%EB%B3%B5%EB%AC%B8%EC%9D%98_%EC%9D%B4%ED%95%B4(for)_Before.ipynb\" target=\"_parent\"><img src=\"https://colab.research.google.com/assets/colab-badge.svg\" alt=\"Open In Colab\"/></a>"
      ]
    },
    {
      "cell_type": "markdown",
      "metadata": {
        "id": "hA3p1uheeagQ"
      },
      "source": [
        "## 학습목표\n",
        " * 반복문의 이해 및 활용 (for)\n",
        " * range 함수 이해"
      ]
    },
    {
      "cell_type": "markdown",
      "metadata": {
        "id": "qb2GpegOeagQ"
      },
      "source": [
        "### for 반복문 \n",
        " - 리스트, 문자열 등등 순회 가능한 객체를 순회하면서 값을 처리할 때 사용\n",
        " - 아래와 같은 문법으로 사용\n",
        " - 여기서 i는 매번 수행 될 때마다, a의 아이템으로 순차적으로 변경 됨\n",
        " - 모든 아이템이 순회되면 for 블록 종료\n",
        " \n",
        "```python\n",
        "a = [1, 2, 4, 3, 5]\n",
        "for i in a:\n",
        "    print (i, i * 2)\n",
        "```"
      ]
    },
    {
      "cell_type": "code",
      "metadata": {
        "colab": {
          "base_uri": "https://localhost:8080/"
        },
        "id": "oGSrJYNBeagR",
        "outputId": "65ecfc22-f71f-4cc9-bc78-514ef46233d5"
      },
      "source": [
        "a = [1, 2, 4, 3, 5]\n",
        "for i in a:\n",
        "    print (i, i * 2) # 원래 숫자와 +1된숫자\n",
        "print('hahah')"
      ],
      "execution_count": 1,
      "outputs": [
        {
          "output_type": "stream",
          "text": [
            "1 2\n",
            "2 4\n",
            "4 8\n",
            "3 6\n",
            "5 10\n",
            "hahah\n"
          ],
          "name": "stdout"
        }
      ]
    },
    {
      "cell_type": "code",
      "metadata": {
        "colab": {
          "base_uri": "https://localhost:8080/"
        },
        "id": "AInqit5lfzWy",
        "outputId": "345034c7-ba96-489c-92f3-70d57e7320c6"
      },
      "source": [
        "a = [1, 2, 4, 3, 5]\n",
        "for number in a:\n",
        "    print(number)\n",
        "print('hahah')"
      ],
      "execution_count": 2,
      "outputs": [
        {
          "output_type": "stream",
          "text": [
            "1\n",
            "2\n",
            "4\n",
            "3\n",
            "5\n",
            "hahah\n"
          ],
          "name": "stdout"
        }
      ]
    },
    {
      "cell_type": "markdown",
      "metadata": {
        "id": "a3php6HfeagR"
      },
      "source": [
        "#### 문자열의 아이템 출력하기\n",
        " - 문자열의 경우 순회 가능, 리스트의 유사하게 순회 가능"
      ]
    },
    {
      "cell_type": "code",
      "metadata": {
        "colab": {
          "base_uri": "https://localhost:8080/"
        },
        "id": "iytjhcTYeagR",
        "outputId": "170f0af7-b1c6-4660-8c9f-e7a90ff98403"
      },
      "source": [
        "for x in 'hello world':\n",
        "    print(x)"
      ],
      "execution_count": 3,
      "outputs": [
        {
          "output_type": "stream",
          "text": [
            "h\n",
            "e\n",
            "l\n",
            "l\n",
            "o\n",
            " \n",
            "w\n",
            "o\n",
            "r\n",
            "l\n",
            "d\n"
          ],
          "name": "stdout"
        }
      ]
    },
    {
      "cell_type": "code",
      "metadata": {
        "colab": {
          "base_uri": "https://localhost:8080/"
        },
        "id": "qx2MTnbNf9f7",
        "outputId": "2f371596-c954-4ce7-904c-7fde4ed51997"
      },
      "source": [
        "a = 'hello world'\n",
        "for character in a:\n",
        "    print(character)"
      ],
      "execution_count": 4,
      "outputs": [
        {
          "output_type": "stream",
          "text": [
            "h\n",
            "e\n",
            "l\n",
            "l\n",
            "o\n",
            " \n",
            "w\n",
            "o\n",
            "r\n",
            "l\n",
            "d\n"
          ],
          "name": "stdout"
        }
      ]
    },
    {
      "cell_type": "markdown",
      "metadata": {
        "id": "CCB3hd6YeagS"
      },
      "source": [
        "#### 리스트 아이템 출력하기"
      ]
    },
    {
      "cell_type": "code",
      "metadata": {
        "colab": {
          "base_uri": "https://localhost:8080/"
        },
        "id": "HMl7bmQveagS",
        "outputId": "679d5f79-054b-4f00-c1b1-ca902fb2bd66"
      },
      "source": [
        "a = [1, 10, 3, 4, 5]\n",
        "for num in a:\n",
        "    if num % 2 == 0:\n",
        "        print(num/2)\n",
        "    else:\n",
        "        print(num+1)"
      ],
      "execution_count": 5,
      "outputs": [
        {
          "output_type": "stream",
          "text": [
            "2\n",
            "5.0\n",
            "4\n",
            "2.0\n",
            "6\n"
          ],
          "name": "stdout"
        }
      ]
    },
    {
      "cell_type": "markdown",
      "metadata": {
        "id": "DjKcPfFweagS"
      },
      "source": [
        "#### dict의 아이템 출력하기\n",
        "  - dictionary의 경우 기본적으로 순회 하게 되면 key값을 참조\n",
        "  - keys()함수를 이용하여 key 값만 순회 가능\n",
        "  - values()함수를 이용하여 value 값만 순회 가능\n",
        "  - items()함수를 이용하여 tuple형태로 key, value 순회 가능"
      ]
    },
    {
      "cell_type": "code",
      "metadata": {
        "colab": {
          "base_uri": "https://localhost:8080/"
        },
        "id": "F6QEen-zeagS",
        "outputId": "d955659b-09ee-4371-cebf-fdab06f99458"
      },
      "source": [
        "a = {'korea': 'seoul', 'japan': 'tokyo', 'canada': 'ottawa'}\n",
        "for key in a:\n",
        "    print(key, a[key])"
      ],
      "execution_count": 6,
      "outputs": [
        {
          "output_type": "stream",
          "text": [
            "korea seoul\n",
            "japan tokyo\n",
            "canada ottawa\n"
          ],
          "name": "stdout"
        }
      ]
    },
    {
      "cell_type": "code",
      "metadata": {
        "colab": {
          "base_uri": "https://localhost:8080/"
        },
        "id": "Eo85336ng9Ko",
        "outputId": "2307f00c-8a83-46ce-cbb6-acccc9d2db78"
      },
      "source": [
        "for key in a:\n",
        "    print(key)"
      ],
      "execution_count": 7,
      "outputs": [
        {
          "output_type": "stream",
          "text": [
            "korea\n",
            "japan\n",
            "canada\n"
          ],
          "name": "stdout"
        }
      ]
    },
    {
      "cell_type": "code",
      "metadata": {
        "colab": {
          "base_uri": "https://localhost:8080/"
        },
        "id": "lam8hU4WhBJA",
        "outputId": "6fb7113e-f1e4-4ca8-c215-d2d14c7ea563"
      },
      "source": [
        "for value in a.values():\n",
        "    print(value)"
      ],
      "execution_count": 8,
      "outputs": [
        {
          "output_type": "stream",
          "text": [
            "seoul\n",
            "tokyo\n",
            "ottawa\n"
          ],
          "name": "stdout"
        }
      ]
    },
    {
      "cell_type": "code",
      "metadata": {
        "colab": {
          "base_uri": "https://localhost:8080/"
        },
        "id": "Ygb-Vn6DhYhv",
        "outputId": "038f73c6-7613-418d-bcc3-d79503a3d49f"
      },
      "source": [
        "list(a.items())"
      ],
      "execution_count": 9,
      "outputs": [
        {
          "output_type": "execute_result",
          "data": {
            "text/plain": [
              "[('korea', 'seoul'), ('japan', 'tokyo'), ('canada', 'ottawa')]"
            ]
          },
          "metadata": {
            "tags": []
          },
          "execution_count": 9
        }
      ]
    },
    {
      "cell_type": "code",
      "metadata": {
        "colab": {
          "base_uri": "https://localhost:8080/"
        },
        "id": "pBOCdiwbhb_K",
        "outputId": "db1b1617-9341-4c0f-f852-e8430088c416"
      },
      "source": [
        "for key, value in a.items():\n",
        "    print(key, value)"
      ],
      "execution_count": 10,
      "outputs": [
        {
          "output_type": "stream",
          "text": [
            "korea seoul\n",
            "japan tokyo\n",
            "canada ottawa\n"
          ],
          "name": "stdout"
        }
      ]
    },
    {
      "cell_type": "markdown",
      "metadata": {
        "id": "bMtQJoEseagS"
      },
      "source": [
        "#### for에서 index 사용하기\n",
        "  - 기본적으로 for에 리스트를 순회하는 경우, 값만 추출 함\n",
        "  - 아래와 같은 코드로 인덱스와 값 모두 사용 가능(enumerate 함수 이용)\n",
        "\n",
        "```python\n",
        "a = [1, 2, 4, 3, 5]\n",
        "for i, val in enumerate(a):\n",
        "    print i, val\n",
        "```"
      ]
    },
    {
      "cell_type": "code",
      "metadata": {
        "colab": {
          "base_uri": "https://localhost:8080/"
        },
        "id": "UN8y2NL8eagS",
        "outputId": "fd4d4341-610f-4f52-c111-fd3a259ee9c2"
      },
      "source": [
        "a = [1, 2, 3, 4, 5]\n",
        "for index, num in enumerate(a):\n",
        "    if index > 3:\n",
        "        print(index, num)"
      ],
      "execution_count": 11,
      "outputs": [
        {
          "output_type": "stream",
          "text": [
            "4 5\n"
          ],
          "name": "stdout"
        }
      ]
    },
    {
      "cell_type": "markdown",
      "metadata": {
        "id": "hO5EcJWLeagS"
      },
      "source": [
        "####  break\n",
        "  - for의 경우에도 특정 조건일 때, loop 종료가 가능"
      ]
    },
    {
      "cell_type": "code",
      "metadata": {
        "colab": {
          "base_uri": "https://localhost:8080/"
        },
        "id": "p0UDEj8SeagS",
        "outputId": "24cd79e0-3ac0-401e-c3bf-72fca0203b07"
      },
      "source": [
        "a = [100, 90, 80, 70, 60, 50]\n",
        "for num in a:\n",
        "    if num < 80: #80이상출력\n",
        "        break\n",
        "        \n",
        "    print(num)"
      ],
      "execution_count": 12,
      "outputs": [
        {
          "output_type": "stream",
          "text": [
            "100\n",
            "90\n",
            "80\n"
          ],
          "name": "stdout"
        }
      ]
    },
    {
      "cell_type": "markdown",
      "metadata": {
        "id": "bvZ2ZFTUeagS"
      },
      "source": [
        "#### continue\n",
        " - 해당 아이템을 건너 뛰고 싶을 때 사용"
      ]
    },
    {
      "cell_type": "code",
      "metadata": {
        "colab": {
          "base_uri": "https://localhost:8080/"
        },
        "id": "1ShVnPB8eagS",
        "outputId": "038cc8c4-bdd1-4915-bc91-7eb501a82f2e"
      },
      "source": [
        "a = [100, 90, 80, 70, 60, 50]\n",
        "for num in a:\n",
        "    if num >= 60 and num <= 70: #60미만과 70초과\n",
        "        continue\n",
        "    print(num)"
      ],
      "execution_count": 13,
      "outputs": [
        {
          "output_type": "stream",
          "text": [
            "100\n",
            "90\n",
            "80\n",
            "50\n"
          ],
          "name": "stdout"
        }
      ]
    },
    {
      "cell_type": "markdown",
      "metadata": {
        "id": "Bd6k09w9eagS"
      },
      "source": [
        "#### loop 중첩\n",
        "  - 반복문의 경우에도 중첩하여 사용 가능\n",
        "  - 중첩이라는 것은 반복문 블록의 코드안에 또 반복문의 코드가 작성되는 것을 의미\n",
        "  - 이런 경우, 내부 루프는 외부 루프가 수행되는 만큼 반복 수행 됨\n",
        "  - 또한 중첩의 경우 무한히 가능\n",
        "\n",
        "```python\n",
        "a = [1, 2, 4]\n",
        "for i in a:\n",
        "    for j in a:\n",
        "        print i * j\n",
        "```"
      ]
    },
    {
      "cell_type": "code",
      "metadata": {
        "colab": {
          "base_uri": "https://localhost:8080/"
        },
        "id": "KFyg4BtCiXGv",
        "outputId": "73a43bd9-8074-44b8-ca16-384b4658c49b"
      },
      "source": [
        "a = [1, 2, 4]\n",
        "for i in a:\n",
        "    for j in a: # 2배씩 출력\n",
        "        print(i * j)"
      ],
      "execution_count": 14,
      "outputs": [
        {
          "output_type": "stream",
          "text": [
            "1\n",
            "2\n",
            "4\n",
            "2\n",
            "4\n",
            "8\n",
            "4\n",
            "8\n",
            "16\n"
          ],
          "name": "stdout"
        }
      ]
    },
    {
      "cell_type": "markdown",
      "metadata": {
        "id": "mkrsQwCReagS"
      },
      "source": [
        "#### 구구단 출력하기"
      ]
    },
    {
      "cell_type": "code",
      "metadata": {
        "id": "_ytQ63G8jOfh"
      },
      "source": [
        "2 * 1 = 2 2 * 2 = 4 2 * 3 = 6 ... 2 * 9 = 18 3 * 1 = 3 .. 3 * 9 = 27 ... 9 * 1 = 9 ... 9 * 9 = 81"
      ],
      "execution_count": null,
      "outputs": []
    },
    {
      "cell_type": "code",
      "metadata": {
        "colab": {
          "base_uri": "https://localhost:8080/"
        },
        "id": "gLOFQP8SeagS",
        "outputId": "5e1cb791-0e01-440a-d883-a7df23172ca9"
      },
      "source": [
        "x = [2, 3, 4, 5, 6, 7, 8, 9]\n",
        "y = [1, 2, 3, 4, 5, 6, 7, 8, 9]\n",
        "\n",
        "for i in x:\n",
        "    for j in y:\n",
        "        print(i, 'x', j, '=', i*j)\n",
        "        "
      ],
      "execution_count": 15,
      "outputs": [
        {
          "output_type": "stream",
          "text": [
            "2 x 1 = 2\n",
            "2 x 2 = 4\n",
            "2 x 3 = 6\n",
            "2 x 4 = 8\n",
            "2 x 5 = 10\n",
            "2 x 6 = 12\n",
            "2 x 7 = 14\n",
            "2 x 8 = 16\n",
            "2 x 9 = 18\n",
            "3 x 1 = 3\n",
            "3 x 2 = 6\n",
            "3 x 3 = 9\n",
            "3 x 4 = 12\n",
            "3 x 5 = 15\n",
            "3 x 6 = 18\n",
            "3 x 7 = 21\n",
            "3 x 8 = 24\n",
            "3 x 9 = 27\n",
            "4 x 1 = 4\n",
            "4 x 2 = 8\n",
            "4 x 3 = 12\n",
            "4 x 4 = 16\n",
            "4 x 5 = 20\n",
            "4 x 6 = 24\n",
            "4 x 7 = 28\n",
            "4 x 8 = 32\n",
            "4 x 9 = 36\n",
            "5 x 1 = 5\n",
            "5 x 2 = 10\n",
            "5 x 3 = 15\n",
            "5 x 4 = 20\n",
            "5 x 5 = 25\n",
            "5 x 6 = 30\n",
            "5 x 7 = 35\n",
            "5 x 8 = 40\n",
            "5 x 9 = 45\n",
            "6 x 1 = 6\n",
            "6 x 2 = 12\n",
            "6 x 3 = 18\n",
            "6 x 4 = 24\n",
            "6 x 5 = 30\n",
            "6 x 6 = 36\n",
            "6 x 7 = 42\n",
            "6 x 8 = 48\n",
            "6 x 9 = 54\n",
            "7 x 1 = 7\n",
            "7 x 2 = 14\n",
            "7 x 3 = 21\n",
            "7 x 4 = 28\n",
            "7 x 5 = 35\n",
            "7 x 6 = 42\n",
            "7 x 7 = 49\n",
            "7 x 8 = 56\n",
            "7 x 9 = 63\n",
            "8 x 1 = 8\n",
            "8 x 2 = 16\n",
            "8 x 3 = 24\n",
            "8 x 4 = 32\n",
            "8 x 5 = 40\n",
            "8 x 6 = 48\n",
            "8 x 7 = 56\n",
            "8 x 8 = 64\n",
            "8 x 9 = 72\n",
            "9 x 1 = 9\n",
            "9 x 2 = 18\n",
            "9 x 3 = 27\n",
            "9 x 4 = 36\n",
            "9 x 5 = 45\n",
            "9 x 6 = 54\n",
            "9 x 7 = 63\n",
            "9 x 8 = 72\n",
            "9 x 9 = 81\n"
          ],
          "name": "stdout"
        }
      ]
    },
    {
      "cell_type": "markdown",
      "metadata": {
        "id": "fqT_9eGreagS"
      },
      "source": [
        "#### collection의 길이\n",
        " - len() 내장함수로 계산 가능\n",
        " - 내장함수란 파이썬 내부에 구현되어 있어서, import하지 않고도 사용 가능한 함수를 의미\n",
        " - abs, len, type, range 등이 있음 (과정 진행하면서 필요할 때마다 다룰 예정)"
      ]
    },
    {
      "cell_type": "code",
      "metadata": {
        "colab": {
          "base_uri": "https://localhost:8080/"
        },
        "id": "CJotwC85eagS",
        "outputId": "f19ae11d-2157-411a-ef1c-8cada784c0e3"
      },
      "source": [
        "print(a)\n",
        "print(len(a))"
      ],
      "execution_count": 16,
      "outputs": [
        {
          "output_type": "stream",
          "text": [
            "[1, 2, 4]\n",
            "3\n"
          ],
          "name": "stdout"
        }
      ]
    },
    {
      "cell_type": "code",
      "metadata": {
        "colab": {
          "base_uri": "https://localhost:8080/"
        },
        "id": "Lx6wp5o1jY3N",
        "outputId": "b9b98322-10c5-4c66-a169-3f6d4b098334"
      },
      "source": [
        "a = [1, 2, 3, 4, 5, 1]\n",
        "len('hello world')"
      ],
      "execution_count": 17,
      "outputs": [
        {
          "output_type": "execute_result",
          "data": {
            "text/plain": [
              "11"
            ]
          },
          "metadata": {
            "tags": []
          },
          "execution_count": 17
        }
      ]
    },
    {
      "cell_type": "markdown",
      "metadata": {
        "id": "ba2tkdGveagS"
      },
      "source": [
        "#### range 함수\n",
        "  - 리스트를 쉽게 만들 수 있는 내장함수\n",
        "  - 주어진 값에 따라 다양한 결과를 반환\n",
        " \n",
        "```python\n",
        "range(10)       -> [0, 1, 2, 3, 4, 5, 6, 7, 8, 9]\n",
        "range(2, 10)    -> [2, 3, 4, 5, 6, 7, 8, 9] \n",
        "range(2, 10, 3) -> [2, 5, 8] \n",
        "```"
      ]
    },
    {
      "cell_type": "markdown",
      "metadata": {
        "id": "cZPz8fXueagT"
      },
      "source": [
        "* 1 - 100까지의 리스트 생성하기"
      ]
    },
    {
      "cell_type": "code",
      "metadata": {
        "colab": {
          "base_uri": "https://localhost:8080/"
        },
        "id": "f48WbOEAeagT",
        "outputId": "08628c26-2300-48a3-e866-5abf34572170"
      },
      "source": [
        "list(range(101))"
      ],
      "execution_count": 18,
      "outputs": [
        {
          "output_type": "execute_result",
          "data": {
            "text/plain": [
              "[0,\n",
              " 1,\n",
              " 2,\n",
              " 3,\n",
              " 4,\n",
              " 5,\n",
              " 6,\n",
              " 7,\n",
              " 8,\n",
              " 9,\n",
              " 10,\n",
              " 11,\n",
              " 12,\n",
              " 13,\n",
              " 14,\n",
              " 15,\n",
              " 16,\n",
              " 17,\n",
              " 18,\n",
              " 19,\n",
              " 20,\n",
              " 21,\n",
              " 22,\n",
              " 23,\n",
              " 24,\n",
              " 25,\n",
              " 26,\n",
              " 27,\n",
              " 28,\n",
              " 29,\n",
              " 30,\n",
              " 31,\n",
              " 32,\n",
              " 33,\n",
              " 34,\n",
              " 35,\n",
              " 36,\n",
              " 37,\n",
              " 38,\n",
              " 39,\n",
              " 40,\n",
              " 41,\n",
              " 42,\n",
              " 43,\n",
              " 44,\n",
              " 45,\n",
              " 46,\n",
              " 47,\n",
              " 48,\n",
              " 49,\n",
              " 50,\n",
              " 51,\n",
              " 52,\n",
              " 53,\n",
              " 54,\n",
              " 55,\n",
              " 56,\n",
              " 57,\n",
              " 58,\n",
              " 59,\n",
              " 60,\n",
              " 61,\n",
              " 62,\n",
              " 63,\n",
              " 64,\n",
              " 65,\n",
              " 66,\n",
              " 67,\n",
              " 68,\n",
              " 69,\n",
              " 70,\n",
              " 71,\n",
              " 72,\n",
              " 73,\n",
              " 74,\n",
              " 75,\n",
              " 76,\n",
              " 77,\n",
              " 78,\n",
              " 79,\n",
              " 80,\n",
              " 81,\n",
              " 82,\n",
              " 83,\n",
              " 84,\n",
              " 85,\n",
              " 86,\n",
              " 87,\n",
              " 88,\n",
              " 89,\n",
              " 90,\n",
              " 91,\n",
              " 92,\n",
              " 93,\n",
              " 94,\n",
              " 95,\n",
              " 96,\n",
              " 97,\n",
              " 98,\n",
              " 99,\n",
              " 100]"
            ]
          },
          "metadata": {
            "tags": []
          },
          "execution_count": 18
        }
      ]
    },
    {
      "cell_type": "code",
      "metadata": {
        "colab": {
          "base_uri": "https://localhost:8080/"
        },
        "id": "yEjCJXR0jvL4",
        "outputId": "57e9dca3-6948-4ec1-be42-dafeb015a712"
      },
      "source": [
        "a = list(range(1, 201))\n",
        "print(a)"
      ],
      "execution_count": 19,
      "outputs": [
        {
          "output_type": "stream",
          "text": [
            "[1, 2, 3, 4, 5, 6, 7, 8, 9, 10, 11, 12, 13, 14, 15, 16, 17, 18, 19, 20, 21, 22, 23, 24, 25, 26, 27, 28, 29, 30, 31, 32, 33, 34, 35, 36, 37, 38, 39, 40, 41, 42, 43, 44, 45, 46, 47, 48, 49, 50, 51, 52, 53, 54, 55, 56, 57, 58, 59, 60, 61, 62, 63, 64, 65, 66, 67, 68, 69, 70, 71, 72, 73, 74, 75, 76, 77, 78, 79, 80, 81, 82, 83, 84, 85, 86, 87, 88, 89, 90, 91, 92, 93, 94, 95, 96, 97, 98, 99, 100, 101, 102, 103, 104, 105, 106, 107, 108, 109, 110, 111, 112, 113, 114, 115, 116, 117, 118, 119, 120, 121, 122, 123, 124, 125, 126, 127, 128, 129, 130, 131, 132, 133, 134, 135, 136, 137, 138, 139, 140, 141, 142, 143, 144, 145, 146, 147, 148, 149, 150, 151, 152, 153, 154, 155, 156, 157, 158, 159, 160, 161, 162, 163, 164, 165, 166, 167, 168, 169, 170, 171, 172, 173, 174, 175, 176, 177, 178, 179, 180, 181, 182, 183, 184, 185, 186, 187, 188, 189, 190, 191, 192, 193, 194, 195, 196, 197, 198, 199, 200]\n"
          ],
          "name": "stdout"
        }
      ]
    },
    {
      "cell_type": "code",
      "metadata": {
        "colab": {
          "base_uri": "https://localhost:8080/"
        },
        "id": "ryCNr2sDjxlY",
        "outputId": "54b70ef1-129b-4c21-8996-af0ca3333665"
      },
      "source": [
        "list(range(1, 101, 5))"
      ],
      "execution_count": 20,
      "outputs": [
        {
          "output_type": "execute_result",
          "data": {
            "text/plain": [
              "[1, 6, 11, 16, 21, 26, 31, 36, 41, 46, 51, 56, 61, 66, 71, 76, 81, 86, 91, 96]"
            ]
          },
          "metadata": {
            "tags": []
          },
          "execution_count": 20
        }
      ]
    },
    {
      "cell_type": "markdown",
      "metadata": {
        "collapsed": true,
        "id": "iYjPn6ipeagT"
      },
      "source": [
        "* **연습문제** 1부터 100사이의 5의 배수만을 갖는 리스트를 생성하시오"
      ]
    },
    {
      "cell_type": "code",
      "metadata": {
        "colab": {
          "base_uri": "https://localhost:8080/"
        },
        "id": "Ux0zkdPTeagT",
        "outputId": "dd96c3ba-2594-4770-ba1a-bb6c634df8ae"
      },
      "source": [
        "list(range(5, 101, 5))"
      ],
      "execution_count": 21,
      "outputs": [
        {
          "output_type": "execute_result",
          "data": {
            "text/plain": [
              "[5,\n",
              " 10,\n",
              " 15,\n",
              " 20,\n",
              " 25,\n",
              " 30,\n",
              " 35,\n",
              " 40,\n",
              " 45,\n",
              " 50,\n",
              " 55,\n",
              " 60,\n",
              " 65,\n",
              " 70,\n",
              " 75,\n",
              " 80,\n",
              " 85,\n",
              " 90,\n",
              " 95,\n",
              " 100]"
            ]
          },
          "metadata": {
            "tags": []
          },
          "execution_count": 21
        }
      ]
    },
    {
      "cell_type": "markdown",
      "metadata": {
        "id": "dV37gCgEeagT"
      },
      "source": [
        "### if & for 연습문제\n",
        "   \n",
        "  1. 구구단을 2 - 9단까지 출력하시오.\n",
        "  2. 1 - 100까지 정수 중 2의 배수 또는 11의 배수를 모두 출력하시오. \n",
        "  4. a = [22, 1, 3, 4, 7, 98, 21, 55, 87, 99, 19, 20, 45] 에서 최대값과 최소값을 찾으시오. (sorted, sort 사용 금지)\n",
        "  5. a = [22, 1, 3, 4, 7, 98, 21, 55, 87, 99, 19, 20, 45] 에서 평균을 구하세요.\n",
        "  "
      ]
    },
    {
      "cell_type": "code",
      "metadata": {
        "colab": {
          "base_uri": "https://localhost:8080/"
        },
        "id": "vhT1iyIpeagT",
        "outputId": "13173505-7758-4d06-8411-0873aa195c90"
      },
      "source": [
        "x = 2\n",
        "while x <= 9:\n",
        "    y = 1\n",
        "    while y <= 9:\n",
        "        print(x, 'x', y, '=', x*y)\n",
        "        y += 1\n",
        "    x += 1"
      ],
      "execution_count": 22,
      "outputs": [
        {
          "output_type": "stream",
          "text": [
            "2 x 1 = 2\n",
            "2 x 2 = 4\n",
            "2 x 3 = 6\n",
            "2 x 4 = 8\n",
            "2 x 5 = 10\n",
            "2 x 6 = 12\n",
            "2 x 7 = 14\n",
            "2 x 8 = 16\n",
            "2 x 9 = 18\n",
            "3 x 1 = 3\n",
            "3 x 2 = 6\n",
            "3 x 3 = 9\n",
            "3 x 4 = 12\n",
            "3 x 5 = 15\n",
            "3 x 6 = 18\n",
            "3 x 7 = 21\n",
            "3 x 8 = 24\n",
            "3 x 9 = 27\n",
            "4 x 1 = 4\n",
            "4 x 2 = 8\n",
            "4 x 3 = 12\n",
            "4 x 4 = 16\n",
            "4 x 5 = 20\n",
            "4 x 6 = 24\n",
            "4 x 7 = 28\n",
            "4 x 8 = 32\n",
            "4 x 9 = 36\n",
            "5 x 1 = 5\n",
            "5 x 2 = 10\n",
            "5 x 3 = 15\n",
            "5 x 4 = 20\n",
            "5 x 5 = 25\n",
            "5 x 6 = 30\n",
            "5 x 7 = 35\n",
            "5 x 8 = 40\n",
            "5 x 9 = 45\n",
            "6 x 1 = 6\n",
            "6 x 2 = 12\n",
            "6 x 3 = 18\n",
            "6 x 4 = 24\n",
            "6 x 5 = 30\n",
            "6 x 6 = 36\n",
            "6 x 7 = 42\n",
            "6 x 8 = 48\n",
            "6 x 9 = 54\n",
            "7 x 1 = 7\n",
            "7 x 2 = 14\n",
            "7 x 3 = 21\n",
            "7 x 4 = 28\n",
            "7 x 5 = 35\n",
            "7 x 6 = 42\n",
            "7 x 7 = 49\n",
            "7 x 8 = 56\n",
            "7 x 9 = 63\n",
            "8 x 1 = 8\n",
            "8 x 2 = 16\n",
            "8 x 3 = 24\n",
            "8 x 4 = 32\n",
            "8 x 5 = 40\n",
            "8 x 6 = 48\n",
            "8 x 7 = 56\n",
            "8 x 8 = 64\n",
            "8 x 9 = 72\n",
            "9 x 1 = 9\n",
            "9 x 2 = 18\n",
            "9 x 3 = 27\n",
            "9 x 4 = 36\n",
            "9 x 5 = 45\n",
            "9 x 6 = 54\n",
            "9 x 7 = 63\n",
            "9 x 8 = 72\n",
            "9 x 9 = 81\n"
          ],
          "name": "stdout"
        }
      ]
    },
    {
      "cell_type": "code",
      "metadata": {
        "colab": {
          "base_uri": "https://localhost:8080/"
        },
        "id": "3UKzX13DkENA",
        "outputId": "b8e7744e-03c6-433a-db72-2aab791b2667"
      },
      "source": [
        "nums = list(range(1, 101))\n",
        "for x in nums:\n",
        "    if x % 2 == 0 or x % 11 == 0:\n",
        "        print(x)"
      ],
      "execution_count": 23,
      "outputs": [
        {
          "output_type": "stream",
          "text": [
            "2\n",
            "4\n",
            "6\n",
            "8\n",
            "10\n",
            "11\n",
            "12\n",
            "14\n",
            "16\n",
            "18\n",
            "20\n",
            "22\n",
            "24\n",
            "26\n",
            "28\n",
            "30\n",
            "32\n",
            "33\n",
            "34\n",
            "36\n",
            "38\n",
            "40\n",
            "42\n",
            "44\n",
            "46\n",
            "48\n",
            "50\n",
            "52\n",
            "54\n",
            "55\n",
            "56\n",
            "58\n",
            "60\n",
            "62\n",
            "64\n",
            "66\n",
            "68\n",
            "70\n",
            "72\n",
            "74\n",
            "76\n",
            "77\n",
            "78\n",
            "80\n",
            "82\n",
            "84\n",
            "86\n",
            "88\n",
            "90\n",
            "92\n",
            "94\n",
            "96\n",
            "98\n",
            "99\n",
            "100\n"
          ],
          "name": "stdout"
        }
      ]
    },
    {
      "cell_type": "code",
      "metadata": {
        "colab": {
          "base_uri": "https://localhost:8080/"
        },
        "id": "Ez5b7kcKkGMX",
        "outputId": "0f3352b7-197b-4edc-ca66-6840f2b3dfa6"
      },
      "source": [
        "# sort 함수(정렬)을 사용한 경우\n",
        "a = [22, 1, 3, 4, 7, 98, 21, 55, 87, 99, 19, 20, 45]\n",
        "a.sort()\n",
        "a[0], a[-1]"
      ],
      "execution_count": 24,
      "outputs": [
        {
          "output_type": "execute_result",
          "data": {
            "text/plain": [
              "(1, 99)"
            ]
          },
          "metadata": {
            "tags": []
          },
          "execution_count": 24
        }
      ]
    },
    {
      "cell_type": "code",
      "metadata": {
        "colab": {
          "base_uri": "https://localhost:8080/"
        },
        "id": "lCoMzx0xkJw8",
        "outputId": "6f39794d-d662-4666-ba48-701e3d7c7b0b"
      },
      "source": [
        "# 처음 만나는 값을 최소 값으로 가정\n",
        "# 그리고 그 후 숫자를 만날때마다 현재 최소값보다 그 숫자가 작으면 최소값을 그 숫자로 업데이트\n",
        "\n",
        "_min = a[0]\n",
        "for x in a:\n",
        "    if x < _min:\n",
        "        _min = x\n",
        "print(_min)\n",
        "        "
      ],
      "execution_count": 25,
      "outputs": [
        {
          "output_type": "stream",
          "text": [
            "1\n"
          ],
          "name": "stdout"
        }
      ]
    },
    {
      "cell_type": "code",
      "metadata": {
        "colab": {
          "base_uri": "https://localhost:8080/"
        },
        "id": "gS9KqV65kMHV",
        "outputId": "e89f4fdf-8479-4f61-c682-29dd027371a4"
      },
      "source": [
        "_max = a[0]\n",
        "for x in a:\n",
        "    if x > _max:\n",
        "        _max = x\n",
        "print(_max)"
      ],
      "execution_count": 26,
      "outputs": [
        {
          "output_type": "stream",
          "text": [
            "99\n"
          ],
          "name": "stdout"
        }
      ]
    },
    {
      "cell_type": "code",
      "metadata": {
        "colab": {
          "base_uri": "https://localhost:8080/"
        },
        "id": "tlNcH_PykPHE",
        "outputId": "6d60f1d1-9a25-4e14-cd03-e31c4132a0df"
      },
      "source": [
        "# 최대 최소 동시에\n",
        "_min = a[0]\n",
        "_max = a[0]\n",
        "for x in a[1:]:\n",
        "    if x < _min:\n",
        "        _min = x\n",
        "    if x > _max:\n",
        "        _max = x\n",
        "\n",
        "print(_min, _max)\n"
      ],
      "execution_count": 27,
      "outputs": [
        {
          "output_type": "stream",
          "text": [
            "1 99\n"
          ],
          "name": "stdout"
        }
      ]
    },
    {
      "cell_type": "code",
      "metadata": {
        "id": "sk3Ew16WkReE"
      },
      "source": [
        "a = [22, 1, 3, 4, 7, 98, 21, 55, 87, 99, 19, 20, 45]"
      ],
      "execution_count": 28,
      "outputs": []
    },
    {
      "cell_type": "code",
      "metadata": {
        "colab": {
          "base_uri": "https://localhost:8080/"
        },
        "id": "zSRuvZMCkVCu",
        "outputId": "dd0fea61-f3fb-428f-cec1-dd6a01455235"
      },
      "source": [
        "# while\n",
        "i = 0\n",
        "_sum = 0\n",
        "while i < len(a):\n",
        "    _sum += a[i]\n",
        "    i += 1\n",
        "    \n",
        "print(_sum / len(a))\n",
        "    \n"
      ],
      "execution_count": 29,
      "outputs": [
        {
          "output_type": "stream",
          "text": [
            "37.0\n"
          ],
          "name": "stdout"
        }
      ]
    },
    {
      "cell_type": "code",
      "metadata": {
        "colab": {
          "base_uri": "https://localhost:8080/"
        },
        "id": "de0qZO3fkXy0",
        "outputId": "e644c27b-6000-4143-bca4-9866db1fc193"
      },
      "source": [
        "# for\n",
        "_sum = 0\n",
        "for x in a:\n",
        "    _sum += x\n",
        "    \n",
        "print(_sum / len(a))\n",
        "    "
      ],
      "execution_count": 30,
      "outputs": [
        {
          "output_type": "stream",
          "text": [
            "37.0\n"
          ],
          "name": "stdout"
        }
      ]
    },
    {
      "cell_type": "code",
      "metadata": {
        "id": "itTNheWOka-7"
      },
      "source": [
        ""
      ],
      "execution_count": null,
      "outputs": []
    }
  ]
}